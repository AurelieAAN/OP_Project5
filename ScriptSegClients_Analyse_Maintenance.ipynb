{
 "cells": [
  {
   "cell_type": "markdown",
   "id": "50b2d052",
   "metadata": {},
   "source": [
    "# Analyse pour le plan de maintenance - segmentation client Olist"
   ]
  },
  {
   "cell_type": "markdown",
   "id": "e6e147f4",
   "metadata": {},
   "source": [
    "-------------------------------------------------------------------------------------------------------------------------------"
   ]
  },
  {
   "cell_type": "markdown",
   "id": "2493d9a7",
   "metadata": {},
   "source": [
    "Pour rappel, nous avons crée une segmentation client pour Olist.\n",
    "Nous disposons de diverses tables concernant les clients, les commandes...\n",
    "\n",
    "Nous avons choisi d'utiliser un modèle Kmeans (5 clusters). Il nous faut à présent définir la fréquence de mise à jour du modèle. Le but étant d'avoir une segmentation qui correspond aux clients."
   ]
  },
  {
   "cell_type": "markdown",
   "id": "6b6e65c4",
   "metadata": {},
   "source": [
    "Importons les bibliothèques."
   ]
  },
  {
   "cell_type": "code",
   "execution_count": 3,
   "id": "a97df084",
   "metadata": {},
   "outputs": [],
   "source": [
    "#notre package de fonctionnalités\n",
    "from Package import Scripts_Analyse01 as pk\n",
    "from Package_Olist import Scripts_Olist as pk_olist\n",
    "\n",
    "import pandas as pd\n",
    "import numpy as np\n",
    "import missingno\n",
    "import matplotlib.pyplot as plt\n",
    "import matplotlib.patches as mpatches\n",
    "import scipy.stats\n",
    "from scipy.stats import pearsonr\n",
    "import seaborn as sns\n",
    "import plotly.express as px\n",
    "import plotly.graph_objects as go\n",
    "from yellowbrick.features import ParallelCoordinates\n",
    "from plotly.graph_objects import Layout\n",
    "import jenkspy\n",
    "from sklearn.decomposition import PCA\n",
    "from sklearn.preprocessing import StandardScaler, MinMaxScaler, scale\n",
    "from sklearn import preprocessing\n",
    "from scipy.cluster.hierarchy import dendrogram, linkage, fcluster\n",
    "from sklearn.cluster import KMeans\n",
    "from sklearn.datasets import make_blobs\n",
    "from yellowbrick.cluster import KElbowVisualizer\n",
    "from yellowbrick.features import PCA as PCA_yellow\n",
    "from yellowbrick.style import set_palette\n",
    "# Import train_test_split function\n",
    "from sklearn.model_selection import train_test_split, KFold, StratifiedKFold, GridSearchCV\n",
    "#Import knearest neighbors Classifier model\n",
    "from sklearn.neighbors import KNeighborsClassifier\n",
    "#Import scikit-learn metrics module for accuracy calculation\n",
    "from sklearn import metrics\n",
    "import gc\n",
    "import time\n",
    "from contextlib import contextmanager\n",
    "from lightgbm import LGBMClassifier\n",
    "from sklearn.metrics import roc_auc_score, roc_curve, auc\n",
    "import warnings\n",
    "warnings.simplefilter(action='ignore', category=FutureWarning)\n",
    "import numpy as np\n",
    "from sklearn.linear_model import LogisticRegression\n",
    "from sklearn.ensemble import RandomForestClassifier\n",
    "\n",
    "from sklearn.feature_selection import SelectKBest, f_classif,mutual_info_classif\n",
    "from skfeature.function.similarity_based import fisher_score\n",
    "from collections import Counter\n",
    "from imblearn.over_sampling import SMOTE\n",
    "from imblearn.under_sampling import NearMiss\n",
    "\n",
    "from hyperopt import fmin, tpe, hp, SparkTrials, STATUS_OK, Trials\n",
    " \n",
    "import mlflow\n",
    "from datetime import datetime, timedelta\n",
    "\n",
    "from sklearn import preprocessing\n",
    "from yellowbrick.cluster import SilhouetteVisualizer\n",
    "from sklearn.cluster import AgglomerativeClustering"
   ]
  },
  {
   "cell_type": "markdown",
   "id": "c6c23a26",
   "metadata": {},
   "source": [
    "Nous réutilisons nos fonctions, insérer dans le package OLIST pour importer les données."
   ]
  },
  {
   "cell_type": "code",
   "execution_count": 7,
   "id": "ae2fd209",
   "metadata": {
    "scrolled": true
   },
   "outputs": [
    {
     "name": "stdout",
     "output_type": "stream",
     "text": [
      "df shape: 99441\n",
      "Order df shape: (99441, 17)\n",
      "Orders  - done in 1s\n",
      "df shape: 99441\n",
      "reviews shape: 99992\n",
      "reviews agg shape: 99441\n",
      "Reviews df shape: (99441, 5)\n",
      "df reviews (99441, 22)\n",
      "Orders reviews - done in 23s\n",
      "Order payments df shape: (99440, 14)\n",
      "df payment (99441, 35)\n",
      "Process order payments - done in 1s\n",
      "Order items df shape: (98666, 82)\n",
      "Process order items - done in 1s\n",
      "orders informations shape: (99441, 117)\n",
      "Orders informations - done in 26s\n",
      "Customer df shape: (99441, 121)\n",
      "Process customer - done in 2s\n",
      "Full complete run - done in 28s\n"
     ]
    }
   ],
   "source": [
    "with pk_olist.timer(\"Full complete run\"):\n",
    "        df = pk_olist.main(False)"
   ]
  },
  {
   "cell_type": "markdown",
   "id": "cbc00032",
   "metadata": {},
   "source": [
    "Appliquons les mêmes modifications et créons les variables RFM."
   ]
  },
  {
   "cell_type": "code",
   "execution_count": 8,
   "id": "16113c2b",
   "metadata": {},
   "outputs": [
    {
     "name": "stdout",
     "output_type": "stream",
     "text": [
      "customer_unique_id - count unique : 96096\n",
      "customer_id_size - count unique : 9\n",
      "order_id_size - count unique : 9\n",
      "order_purchase_timestamp_max - count unique : 95834\n",
      "time_delivered_approved_customer_mean - count unique : 251\n",
      "time_approval_purchase_mean - count unique : 37\n",
      "time_delivery_carrier_approved_mean - count unique : 128\n",
      "time_delivery_customer_carrier_mean - count unique : 248\n",
      "time_delivery_customer_estimated_mean - count unique : 331\n",
      "order_status_approved_sum - count unique : 2\n",
      "order_status_canceled_sum - count unique : 4\n",
      "order_status_created_sum - count unique : 2\n",
      "order_status_delivered_sum - count unique : 10\n",
      "order_status_invoiced_sum - count unique : 2\n",
      "order_status_processing_sum - count unique : 2\n",
      "order_status_shipped_sum - count unique : 3\n",
      "order_status_unavailable_sum - count unique : 3\n",
      "deleted unique colonne : order_status_nan_sum\n",
      "review_score_mean_mean - count unique : 34\n",
      "review_comment_message_ind_sum_mean - count unique : 17\n",
      "review_comment_title_ind_sum_mean - count unique : 12\n",
      "review_created_days_sum_mean - count unique : 226\n",
      "review_answer_days_sum_mean - count unique : 279\n",
      "payment_value_sum_sum - count unique : 28837\n",
      "payment_value_sum_mean - count unique : 29020\n",
      "payment_installments_sum_sum - count unique : 41\n",
      "payment_installments_sum_mean - count unique : 79\n",
      "payment_type_boleto_sum_sum - count unique : 6\n",
      "payment_type_boleto_sum_mean - count unique : 10\n",
      "payment_type_credit_card_sum_sum - count unique : 10\n",
      "payment_type_credit_card_sum_mean - count unique : 12\n",
      "payment_type_debit_card_sum_sum - count unique : 3\n",
      "payment_type_debit_card_sum_mean - count unique : 5\n",
      "payment_type_not_defined_sum_sum - count unique : 2\n",
      "payment_type_not_defined_sum_mean - count unique : 3\n",
      "payment_type_voucher_sum_sum - count unique : 21\n",
      "payment_type_voucher_sum_mean - count unique : 32\n",
      "deleted unique colonne : payment_type_nan_sum_sum\n",
      "deleted unique colonne : payment_type_nan_sum_mean\n",
      "boleto_payment_value_sum - count unique : 10542\n",
      "boleto_payment_value_mean - count unique : 10646\n",
      "credit_card_payment_value_sum - count unique : 26029\n",
      "credit_card_payment_value_mean - count unique : 26288\n",
      "debit_card_payment_value_sum - count unique : 1373\n",
      "debit_card_payment_value_mean - count unique : 1379\n",
      "deleted unique colonne : not_defined_payment_value_sum\n",
      "deleted unique colonne : not_defined_payment_value_mean\n",
      "voucher_payment_value_sum - count unique : 2802\n",
      "voucher_payment_value_mean - count unique : 2820\n",
      "product_id_size_mean - count unique : 39\n",
      "product_category_name_english_agro_industry_and_commerce_sum_sum - count unique : 7\n",
      "product_category_name_english_air_conditioning_sum_sum - count unique : 6\n",
      "product_category_name_english_art_sum_sum - count unique : 4\n",
      "product_category_name_english_arts_and_craftmanship_sum_sum - count unique : 3\n",
      "product_category_name_english_audio_sum_sum - count unique : 4\n",
      "product_category_name_english_auto_sum_sum - count unique : 8\n",
      "product_category_name_english_baby_sum_sum - count unique : 8\n",
      "product_category_name_english_bed_bath_table_sum_sum - count unique : 12\n",
      "product_category_name_english_books_general_interest_sum_sum - count unique : 5\n",
      "product_category_name_english_books_imported_sum_sum - count unique : 3\n",
      "product_category_name_english_books_technical_sum_sum - count unique : 4\n",
      "product_category_name_english_cds_dvds_musicals_sum_sum - count unique : 3\n",
      "product_category_name_english_christmas_supplies_sum_sum - count unique : 5\n",
      "product_category_name_english_cine_photo_sum_sum - count unique : 4\n",
      "product_category_name_english_computers_sum_sum - count unique : 5\n",
      "product_category_name_english_computers_accessories_sum_sum - count unique : 13\n",
      "product_category_name_english_consoles_games_sum_sum - count unique : 6\n",
      "product_category_name_english_construction_tools_construction_sum_sum - count unique : 9\n",
      "product_category_name_english_construction_tools_lights_sum_sum - count unique : 7\n",
      "product_category_name_english_construction_tools_safety_sum_sum - count unique : 7\n",
      "product_category_name_english_cool_stuff_sum_sum - count unique : 8\n",
      "product_category_name_english_costruction_tools_garden_sum_sum - count unique : 5\n",
      "product_category_name_english_costruction_tools_tools_sum_sum - count unique : 3\n",
      "product_category_name_english_diapers_and_hygiene_sum_sum - count unique : 5\n",
      "product_category_name_english_drinks_sum_sum - count unique : 9\n",
      "product_category_name_english_dvds_blu_ray_sum_sum - count unique : 4\n",
      "product_category_name_english_electronics_sum_sum - count unique : 7\n",
      "product_category_name_english_fashio_female_clothing_sum_sum - count unique : 5\n",
      "product_category_name_english_fashion_bags_accessories_sum_sum - count unique : 8\n",
      "product_category_name_english_fashion_childrens_clothes_sum_sum - count unique : 2\n",
      "product_category_name_english_fashion_male_clothing_sum_sum - count unique : 4\n",
      "product_category_name_english_fashion_shoes_sum_sum - count unique : 5\n",
      "product_category_name_english_fashion_sport_sum_sum - count unique : 3\n",
      "product_category_name_english_fashion_underwear_beach_sum_sum - count unique : 4\n",
      "product_category_name_english_fixed_telephony_sum_sum - count unique : 7\n",
      "product_category_name_english_flowers_sum_sum - count unique : 3\n",
      "product_category_name_english_food_sum_sum - count unique : 6\n",
      "product_category_name_english_food_drink_sum_sum - count unique : 6\n",
      "product_category_name_english_furniture_bedroom_sum_sum - count unique : 4\n",
      "product_category_name_english_furniture_decor_sum_sum - count unique : 12\n",
      "product_category_name_english_furniture_living_room_sum_sum - count unique : 8\n",
      "product_category_name_english_furniture_mattress_and_upholstery_sum_sum - count unique : 2\n",
      "product_category_name_english_garden_tools_sum_sum - count unique : 12\n",
      "product_category_name_english_health_beauty_sum_sum - count unique : 8\n",
      "product_category_name_english_home_appliances_sum_sum - count unique : 4\n",
      "product_category_name_english_home_appliances_2_sum_sum - count unique : 4\n",
      "product_category_name_english_home_comfort_2_sum_sum - count unique : 4\n",
      "product_category_name_english_home_confort_sum_sum - count unique : 5\n",
      "product_category_name_english_home_construction_sum_sum - count unique : 7\n",
      "product_category_name_english_housewares_sum_sum - count unique : 12\n",
      "product_category_name_english_industry_commerce_and_business_sum_sum - count unique : 5\n",
      "product_category_name_english_kitchen_dining_laundry_garden_furniture_sum_sum - count unique : 5\n",
      "product_category_name_english_la_cuisine_sum_sum - count unique : 3\n",
      "product_category_name_english_luggage_accessories_sum_sum - count unique : 5\n",
      "product_category_name_english_market_place_sum_sum - count unique : 6\n",
      "product_category_name_english_music_sum_sum - count unique : 2\n",
      "product_category_name_english_musical_instruments_sum_sum - count unique : 7\n",
      "product_category_name_english_office_furniture_sum_sum - count unique : 12\n",
      "product_category_name_english_party_supplies_sum_sum - count unique : 3\n",
      "product_category_name_english_perfumery_sum_sum - count unique : 7\n",
      "product_category_name_english_pet_shop_sum_sum - count unique : 8\n",
      "product_category_name_english_security_and_services_sum_sum - count unique : 2\n",
      "product_category_name_english_signaling_and_security_sum_sum - count unique : 7\n",
      "product_category_name_english_small_appliances_sum_sum - count unique : 5\n",
      "product_category_name_english_small_appliances_home_oven_and_coffee_sum_sum - count unique : 3\n",
      "product_category_name_english_sports_leisure_sum_sum - count unique : 9\n",
      "product_category_name_english_stationery_sum_sum - count unique : 7\n",
      "product_category_name_english_tablets_printing_image_sum_sum - count unique : 3\n",
      "product_category_name_english_telephony_sum_sum - count unique : 11\n",
      "product_category_name_english_toys_sum_sum - count unique : 7\n",
      "product_category_name_english_watches_gifts_sum_sum - count unique : 9\n",
      "product_category_name_english_nan_sum_sum - count unique : 7\n",
      "price_mean_mean - count unique : 8123\n",
      "freight_value_mean_mean - count unique : 8563\n",
      "product_name_lenght_mean_mean - count unique : 356\n",
      "product_description_lenght_mean_mean - count unique : 4572\n",
      "product_photos_qty_mean_mean - count unique : 107\n",
      "product_weight_g_mean_mean - count unique : 3229\n",
      "product_length_cm_mean_mean - count unique : 404\n",
      "product_height_cm_mean_mean - count unique : 373\n",
      "product_width_cm_mean_mean - count unique : 357\n",
      "order_purchase_timestamp_recency - count unique : 630\n"
     ]
    }
   ],
   "source": [
    "pk.data_uniqueone_string(df)\n",
    "for i in df.columns:\n",
    "    if \"product_\" in i:\n",
    "        df[i]=df[i].fillna(0)\n",
    "\n",
    "for i in df.columns:\n",
    "    if (\"payment_\" in i) or (\"price_\" in i) or (\"freight_\" in i)  or (\"review_\" in i):\n",
    "        df[i]=df[i].fillna(0)\n",
    "\n",
    "for i in df.columns:\n",
    "    if (\"time_\" in i):\n",
    "        df[i]=df[i].fillna(max(df[i]))\n",
    "\n",
    "del df[\"customer_id_size\"]\n",
    "\n",
    "#build 4 clusters for recency and add it to dataframe\n",
    "kmeans = KMeans(n_clusters=5)\n",
    "kmeans.fit(df[['order_purchase_timestamp_recency']])\n",
    "df['RecencyCluster'] = kmeans.predict(df.loc[:,['order_purchase_timestamp_recency']])\n",
    "\n",
    "#function for ordering cluster numbers\n",
    "def order_cluster(cluster_field_name, target_field_name,df,ascending):\n",
    "    new_cluster_field_name = 'new_' + cluster_field_name\n",
    "    df_new = df.groupby(cluster_field_name)[target_field_name].mean().reset_index()\n",
    "    df_new = df_new.sort_values(by=target_field_name,ascending=ascending).reset_index(drop=True)\n",
    "    df_new['index'] = df_new.index\n",
    "    df_final = pd.merge(df,df_new[[cluster_field_name,'index']], on=cluster_field_name)\n",
    "    df_final = df_final.drop([cluster_field_name],axis=1)\n",
    "    df_final = df_final.rename(columns={\"index\":cluster_field_name})\n",
    "    return df_final\n",
    "\n",
    "df_new = order_cluster('RecencyCluster', 'order_purchase_timestamp_recency',df,False)\n",
    "\n",
    "\n"
   ]
  },
  {
   "cell_type": "code",
   "execution_count": 9,
   "id": "ae34316c",
   "metadata": {},
   "outputs": [
    {
     "data": {
      "text/html": [
       "<div>\n",
       "<style scoped>\n",
       "    .dataframe tbody tr th:only-of-type {\n",
       "        vertical-align: middle;\n",
       "    }\n",
       "\n",
       "    .dataframe tbody tr th {\n",
       "        vertical-align: top;\n",
       "    }\n",
       "\n",
       "    .dataframe thead th {\n",
       "        text-align: right;\n",
       "    }\n",
       "</style>\n",
       "<table border=\"1\" class=\"dataframe\">\n",
       "  <thead>\n",
       "    <tr style=\"text-align: right;\">\n",
       "      <th></th>\n",
       "      <th>count</th>\n",
       "      <th>mean</th>\n",
       "      <th>std</th>\n",
       "      <th>min</th>\n",
       "      <th>25%</th>\n",
       "      <th>50%</th>\n",
       "      <th>75%</th>\n",
       "      <th>max</th>\n",
       "    </tr>\n",
       "    <tr>\n",
       "      <th>FrequencyCluster</th>\n",
       "      <th></th>\n",
       "      <th></th>\n",
       "      <th></th>\n",
       "      <th></th>\n",
       "      <th></th>\n",
       "      <th></th>\n",
       "      <th></th>\n",
       "      <th></th>\n",
       "    </tr>\n",
       "  </thead>\n",
       "  <tbody>\n",
       "    <tr>\n",
       "      <th>0</th>\n",
       "      <td>93099.0</td>\n",
       "      <td>1.000000</td>\n",
       "      <td>0.000000</td>\n",
       "      <td>1.0</td>\n",
       "      <td>1.0</td>\n",
       "      <td>1.0</td>\n",
       "      <td>1.0</td>\n",
       "      <td>1.0</td>\n",
       "    </tr>\n",
       "    <tr>\n",
       "      <th>1</th>\n",
       "      <td>2745.0</td>\n",
       "      <td>2.000000</td>\n",
       "      <td>0.000000</td>\n",
       "      <td>2.0</td>\n",
       "      <td>2.0</td>\n",
       "      <td>2.0</td>\n",
       "      <td>2.0</td>\n",
       "      <td>2.0</td>\n",
       "    </tr>\n",
       "    <tr>\n",
       "      <th>2</th>\n",
       "      <td>252.0</td>\n",
       "      <td>3.380952</td>\n",
       "      <td>1.196656</td>\n",
       "      <td>3.0</td>\n",
       "      <td>3.0</td>\n",
       "      <td>3.0</td>\n",
       "      <td>3.0</td>\n",
       "      <td>17.0</td>\n",
       "    </tr>\n",
       "  </tbody>\n",
       "</table>\n",
       "</div>"
      ],
      "text/plain": [
       "                    count      mean       std  min  25%  50%  75%   max\n",
       "FrequencyCluster                                                       \n",
       "0                 93099.0  1.000000  0.000000  1.0  1.0  1.0  1.0   1.0\n",
       "1                  2745.0  2.000000  0.000000  2.0  2.0  2.0  2.0   2.0\n",
       "2                   252.0  3.380952  1.196656  3.0  3.0  3.0  3.0  17.0"
      ]
     },
     "execution_count": 9,
     "metadata": {},
     "output_type": "execute_result"
    }
   ],
   "source": [
    "#k-means\n",
    "kmeans = KMeans(n_clusters=3)\n",
    "kmeans.fit(df_new[['order_id_size']])\n",
    "df_new['FrequencyCluster'] = kmeans.predict(df_new[['order_id_size']])\n",
    "\n",
    "#order the frequency cluster\n",
    "df_new = order_cluster('FrequencyCluster', 'order_id_size',df_new,True)\n",
    "\n",
    "#see details of each cluster\n",
    "df_new.groupby('FrequencyCluster')['order_id_size'].describe()"
   ]
  },
  {
   "cell_type": "code",
   "execution_count": 10,
   "id": "30f80067",
   "metadata": {
    "scrolled": false
   },
   "outputs": [
    {
     "data": {
      "text/html": [
       "<div>\n",
       "<style scoped>\n",
       "    .dataframe tbody tr th:only-of-type {\n",
       "        vertical-align: middle;\n",
       "    }\n",
       "\n",
       "    .dataframe tbody tr th {\n",
       "        vertical-align: top;\n",
       "    }\n",
       "\n",
       "    .dataframe thead th {\n",
       "        text-align: right;\n",
       "    }\n",
       "</style>\n",
       "<table border=\"1\" class=\"dataframe\">\n",
       "  <thead>\n",
       "    <tr style=\"text-align: right;\">\n",
       "      <th></th>\n",
       "      <th>count</th>\n",
       "      <th>mean</th>\n",
       "      <th>std</th>\n",
       "      <th>min</th>\n",
       "      <th>25%</th>\n",
       "      <th>50%</th>\n",
       "      <th>75%</th>\n",
       "      <th>max</th>\n",
       "    </tr>\n",
       "    <tr>\n",
       "      <th>RevenueCluster</th>\n",
       "      <th></th>\n",
       "      <th></th>\n",
       "      <th></th>\n",
       "      <th></th>\n",
       "      <th></th>\n",
       "      <th></th>\n",
       "      <th></th>\n",
       "      <th></th>\n",
       "    </tr>\n",
       "  </thead>\n",
       "  <tbody>\n",
       "    <tr>\n",
       "      <th>0</th>\n",
       "      <td>72704.0</td>\n",
       "      <td>90.459855</td>\n",
       "      <td>43.908957</td>\n",
       "      <td>0.00</td>\n",
       "      <td>53.9600</td>\n",
       "      <td>83.57</td>\n",
       "      <td>123.9700</td>\n",
       "      <td>186.77</td>\n",
       "    </tr>\n",
       "    <tr>\n",
       "      <th>1</th>\n",
       "      <td>19219.0</td>\n",
       "      <td>281.977185</td>\n",
       "      <td>83.691731</td>\n",
       "      <td>186.79</td>\n",
       "      <td>214.0050</td>\n",
       "      <td>255.56</td>\n",
       "      <td>333.3550</td>\n",
       "      <td>521.64</td>\n",
       "    </tr>\n",
       "    <tr>\n",
       "      <th>2</th>\n",
       "      <td>3451.0</td>\n",
       "      <td>759.399687</td>\n",
       "      <td>191.781011</td>\n",
       "      <td>522.08</td>\n",
       "      <td>607.8700</td>\n",
       "      <td>706.33</td>\n",
       "      <td>872.6900</td>\n",
       "      <td>1274.51</td>\n",
       "    </tr>\n",
       "    <tr>\n",
       "      <th>3</th>\n",
       "      <td>692.0</td>\n",
       "      <td>1788.040405</td>\n",
       "      <td>463.266883</td>\n",
       "      <td>1275.39</td>\n",
       "      <td>1422.9200</td>\n",
       "      <td>1653.60</td>\n",
       "      <td>2031.6025</td>\n",
       "      <td>3406.47</td>\n",
       "    </tr>\n",
       "    <tr>\n",
       "      <th>4</th>\n",
       "      <td>30.0</td>\n",
       "      <td>5158.233667</td>\n",
       "      <td>2196.626544</td>\n",
       "      <td>3526.46</td>\n",
       "      <td>3864.9875</td>\n",
       "      <td>4185.01</td>\n",
       "      <td>5763.5150</td>\n",
       "      <td>13664.08</td>\n",
       "    </tr>\n",
       "  </tbody>\n",
       "</table>\n",
       "</div>"
      ],
      "text/plain": [
       "                  count         mean          std      min        25%  \\\n",
       "RevenueCluster                                                          \n",
       "0               72704.0    90.459855    43.908957     0.00    53.9600   \n",
       "1               19219.0   281.977185    83.691731   186.79   214.0050   \n",
       "2                3451.0   759.399687   191.781011   522.08   607.8700   \n",
       "3                 692.0  1788.040405   463.266883  1275.39  1422.9200   \n",
       "4                  30.0  5158.233667  2196.626544  3526.46  3864.9875   \n",
       "\n",
       "                    50%        75%       max  \n",
       "RevenueCluster                                \n",
       "0                 83.57   123.9700    186.77  \n",
       "1                255.56   333.3550    521.64  \n",
       "2                706.33   872.6900   1274.51  \n",
       "3               1653.60  2031.6025   3406.47  \n",
       "4               4185.01  5763.5150  13664.08  "
      ]
     },
     "execution_count": 10,
     "metadata": {},
     "output_type": "execute_result"
    }
   ],
   "source": [
    "#apply clustering\n",
    "kmeans = KMeans(init='k-means++',n_clusters=5, random_state=0, max_iter=500)\n",
    "kmeans.fit(df_new[['payment_value_sum_sum']])\n",
    "df_new['RevenueCluster'] = kmeans.predict(df_new[['payment_value_sum_sum']])\n",
    "\n",
    "\n",
    "#order the cluster numbers\n",
    "df_new = order_cluster('RevenueCluster', 'payment_value_sum_sum',df_new,True)\n",
    "\n",
    "#show details of the dataframe\n",
    "df_new.groupby('RevenueCluster')['payment_value_sum_sum'].describe()"
   ]
  },
  {
   "cell_type": "markdown",
   "id": "10781cb5",
   "metadata": {},
   "source": [
    "Il convient maintenant de créer un pipeline qui va nous permettre de calculer le ARI sur une période choisie.\n",
    "\n",
    "## Création du pipeline\n",
    "\n",
    "L'indice de Rand index ajusté calcule une mesure de similarité entre deux regroupements en considérant toutes les paires d'échantillons et en comptant les paires qui sont attribuées dans le même groupe ou dans des groupes différents dans les regroupements prédits et ceux définis comme vrais.\n",
    "\n",
    "Nous allons donc calculer le ARI entre : \n",
    "- les classes prédites par le modèle de départ sur les données à t+30jours \n",
    "- et les classes obtenues par le nouveau modèle entrainé sur les données t+30jours\n",
    "Cela nous permettra de voir à quel moment notre ARI baisse et, s'il faut le mettre à jour."
   ]
  },
  {
   "cell_type": "markdown",
   "id": "7eae9d65",
   "metadata": {},
   "source": [
    "Créons notre pipeline."
   ]
  },
  {
   "cell_type": "code",
   "execution_count": 64,
   "id": "dc8793a9",
   "metadata": {},
   "outputs": [],
   "source": [
    "metrics_history=[]\n",
    "\n",
    "#order_purchase_timestamp_max\n",
    "def model_analyse(date_1, n_days, file, var_time):\n",
    "    #entrainement m0\n",
    "    file0=file.loc[file[var_time]<=date_1]\n",
    "    file0_filter = file0.loc[:, [\"RevenueCluster\", \"FrequencyCluster\", \"RecencyCluster\"]]\n",
    "    \n",
    "    #standardise\n",
    "    std_scale0 = preprocessing.StandardScaler().fit(file0_filter)\n",
    "    file0_std0 = std_scale0.transform(file0_filter)\n",
    "    \n",
    "    #entrainement du m0\n",
    "    kmeans_m0 = KMeans(init='k-means++',n_clusters=5, random_state=0, max_iter=500)\n",
    "    kmeans_m0.fit(file0_std0)\n",
    "    C0 = kmeans_m0.labels_\n",
    "    \n",
    "    #file 1\n",
    "    end_date = pd.to_datetime(date_1) + timedelta(days=n_days)\n",
    "    file1=file.loc[(file[var_time]>date_1) & (file[var_time]<end_date)]\n",
    "    file1_filter = file1.loc[:, [\"RevenueCluster\", \"FrequencyCluster\", \"RecencyCluster\"]]\n",
    "    \n",
    "    #entrainement m1\n",
    "    kmeans_m1 = KMeans(init='k-means++',n_clusters=5, random_state=0, max_iter=500)\n",
    "    std_scale1 = preprocessing.StandardScaler().fit(file1_filter)\n",
    "    file1_std1 = std_scale1.transform(file1_filter)\n",
    "    if file1_std1.shape[0]>=5:\n",
    "        kmeans_m1.fit(file1_std1)\n",
    "        C1_new = kmeans_m1.labels_\n",
    "        print(\"------------c1 new:\",C1_new)\n",
    "        #predict file 1 avec m0\n",
    "        file1_std0 = std_scale0.transform(file1_filter)\n",
    "        C1_init = kmeans_m0.predict(file1_std0)\n",
    "\n",
    "        print(\"------------c1 init:\",C1_init)\n",
    "        #calcul ARI\n",
    "        if (len(C1_init)>0) and (len(C1_new)>0):\n",
    "            ARI=metrics.adjusted_rand_score(C1_init, C1_new)\n",
    "        else:\n",
    "            ARI=0\n",
    "    else:\n",
    "        ARI=0\n",
    "    return ARI\n",
    "    \n",
    "\n",
    "def find_best_periode_update_model(date1, n_days, file, var_time):\n",
    "    num_model=1\n",
    "    date_end=max(file[var_time])\n",
    "    date1=pd.to_datetime(date1)\n",
    "    while date1<=date_end:\n",
    "        ARI = model_analyse(date1, n_days, file, var_time)\n",
    "        \n",
    "        date0 = pd.to_datetime(date1)\n",
    "        date1 = pd.to_datetime(date1) + timedelta(days=n_days)\n",
    "        print('model: '+str(num_model), ' - n_days: '+str(n_days), ' - date1: '+str(date1),' - date0: '+str(date0), ' - ARI: '+str(ARI))\n",
    "        metrics_history.append({'model':num_model, 'n_days':n_days, 'date1':date1,'date0':date0, 'ARI':ARI})\n",
    "        num_model=num_model+1"
   ]
  },
  {
   "cell_type": "code",
   "execution_count": 12,
   "id": "e56449b7",
   "metadata": {},
   "outputs": [
    {
     "data": {
      "text/plain": [
       "Timestamp('2018-10-17 17:30:18')"
      ]
     },
     "execution_count": 12,
     "metadata": {},
     "output_type": "execute_result"
    }
   ],
   "source": [
    "min(df_new[\"order_purchase_timestamp_max\"])"
   ]
  },
  {
   "cell_type": "code",
   "execution_count": 16,
   "id": "19cddae6",
   "metadata": {},
   "outputs": [
    {
     "data": {
      "text/plain": [
       "Timestamp('2017-12-31 00:00:00')"
      ]
     },
     "execution_count": 16,
     "metadata": {},
     "output_type": "execute_result"
    }
   ],
   "source": [
    "pd.to_datetime(\"2017-12-31\")"
   ]
  },
  {
   "cell_type": "code",
   "execution_count": 59,
   "id": "a4c128a8",
   "metadata": {},
   "outputs": [],
   "source": [
    "file=df_new.copy()\n",
    "del file[\"customer_unique_id\"]"
   ]
  },
  {
   "cell_type": "markdown",
   "id": "62ac0e4d",
   "metadata": {},
   "source": [
    "## Lancement du pipeline"
   ]
  },
  {
   "cell_type": "code",
   "execution_count": 65,
   "id": "67ee3146",
   "metadata": {},
   "outputs": [
    {
     "name": "stdout",
     "output_type": "stream",
     "text": [
      "------------c1 new: [1 1 1 ... 2 2 2]\n",
      "------------c1 init: [0 0 0 ... 3 3 3]\n",
      "model: 1  - n_days: 15  - date1: 2018-01-15 00:00:00  - date0: 2017-12-31 00:00:00  - ARI: 0.9772097423721141\n",
      "------------c1 new: [0 0 0 ... 2 4 4]\n",
      "------------c1 init: [0 0 0 ... 3 3 3]\n",
      "model: 2  - n_days: 15  - date1: 2018-01-30 00:00:00  - date0: 2018-01-15 00:00:00  - ARI: 0.9803183683168587\n",
      "------------c1 new: [0 0 0 ... 3 3 3]\n",
      "------------c1 init: [0 0 0 ... 3 3 3]\n",
      "model: 3  - n_days: 15  - date1: 2018-02-14 00:00:00  - date0: 2018-01-30 00:00:00  - ARI: 0.23171446521651934\n",
      "------------c1 new: [0 0 0 ... 4 4 4]\n",
      "------------c1 init: [3 3 3 ... 2 2 2]\n",
      "model: 4  - n_days: 15  - date1: 2018-03-01 00:00:00  - date0: 2018-02-14 00:00:00  - ARI: 0.9824309071024684\n",
      "------------c1 new: [1 1 1 ... 3 3 3]\n",
      "------------c1 init: [0 0 0 ... 2 2 2]\n",
      "model: 5  - n_days: 15  - date1: 2018-03-16 00:00:00  - date0: 2018-03-01 00:00:00  - ARI: 0.9996053493346782\n",
      "------------c1 new: [1 1 1 ... 2 2 3]\n",
      "------------c1 init: [1 1 1 ... 2 2 2]\n",
      "model: 6  - n_days: 15  - date1: 2018-03-31 00:00:00  - date0: 2018-03-16 00:00:00  - ARI: 0.9781408742708673\n",
      "------------c1 new: [1 1 1 ... 3 3 3]\n",
      "------------c1 init: [3 3 3 ... 1 1 1]\n",
      "model: 7  - n_days: 15  - date1: 2018-04-15 00:00:00  - date0: 2018-03-31 00:00:00  - ARI: 0.9722763281347794\n",
      "------------c1 new: [1 1 1 ... 3 3 3]\n",
      "------------c1 init: [1 1 1 ... 3 3 3]\n",
      "model: 8  - n_days: 15  - date1: 2018-04-30 00:00:00  - date0: 2018-04-15 00:00:00  - ARI: 0.9754645402513941\n",
      "------------c1 new: [0 0 0 ... 4 4 4]\n",
      "------------c1 init: [1 1 1 ... 2 2 2]\n",
      "model: 9  - n_days: 15  - date1: 2018-05-15 00:00:00  - date0: 2018-04-30 00:00:00  - ARI: 0.9995928677616953\n",
      "------------c1 new: [2 2 2 ... 3 3 3]\n",
      "------------c1 init: [1 1 1 ... 2 2 2]\n",
      "model: 10  - n_days: 15  - date1: 2018-05-30 00:00:00  - date0: 2018-05-15 00:00:00  - ARI: 0.42738230171161107\n",
      "------------c1 new: [1 1 1 ... 2 3 3]\n",
      "------------c1 init: [1 1 1 ... 2 2 2]\n",
      "model: 11  - n_days: 15  - date1: 2018-06-14 00:00:00  - date0: 2018-05-30 00:00:00  - ARI: 0.9694565582168355\n",
      "------------c1 new: [1 1 1 ... 3 3 3]\n",
      "------------c1 init: [1 1 1 ... 2 2 2]\n",
      "model: 12  - n_days: 15  - date1: 2018-06-29 00:00:00  - date0: 2018-06-14 00:00:00  - ARI: 0.9787712491503345\n",
      "------------c1 new: [0 0 0 ... 2 2 2]\n",
      "------------c1 init: [0 0 0 ... 3 3 3]\n",
      "model: 13  - n_days: 15  - date1: 2018-07-14 00:00:00  - date0: 2018-06-29 00:00:00  - ARI: 0.9763717678692957\n",
      "------------c1 new: [1 1 1 ... 3 3 3]\n",
      "------------c1 init: [0 0 0 ... 1 1 1]\n",
      "model: 14  - n_days: 15  - date1: 2018-07-29 00:00:00  - date0: 2018-07-14 00:00:00  - ARI: 0.9770796623101153\n",
      "------------c1 new: [0 0 0 ... 3 3 3]\n",
      "------------c1 init: [0 0 0 ... 1 1 1]\n",
      "model: 15  - n_days: 15  - date1: 2018-08-13 00:00:00  - date0: 2018-07-29 00:00:00  - ARI: 0.9758517442500803\n",
      "------------c1 new: [1 1 1 ... 3 3 3]\n",
      "------------c1 init: [4 4 4 ... 1 1 1]\n",
      "model: 16  - n_days: 15  - date1: 2018-08-28 00:00:00  - date0: 2018-08-13 00:00:00  - ARI: 0.9830202369959844\n",
      "------------c1 new: [0 0 0 0 0 0 0 0 0 0 0 0 0 0 0 0 0 0 0 0 0 0 0 0 0 0 0 0 0 0 0 0 0 0 0 0 0\n",
      " 0 0 0 0 0 0 0 0 0 1 1 1 1 1 3 3 3 3 3 3 3 4 4 4 4 4 2 2 2 4 4]\n",
      "------------c1 init: [1 1 1 1 1 1 1 1 1 1 1 1 1 1 1 1 1 1 1 1 1 1 1 1 1 1 1 1 1 1 1 1 1 1 1 1 1\n",
      " 1 1 1 1 1 1 1 1 1 2 2 2 2 2 4 4 4 4 4 4 4 2 2 2 2 2 4 4 4 2 2]\n",
      "model: 17  - n_days: 15  - date1: 2018-09-12 00:00:00  - date0: 2018-08-28 00:00:00  - ARI: 0.9508470605642139\n"
     ]
    },
    {
     "name": "stderr",
     "output_type": "stream",
     "text": [
      "C:\\Users\\aurel\\AppData\\Local\\Temp/ipykernel_14552/2466628106.py:28: ConvergenceWarning: Number of distinct clusters (3) found smaller than n_clusters (5). Possibly due to duplicate points in X.\n",
      "  kmeans_m1.fit(file1_std1)\n"
     ]
    },
    {
     "name": "stdout",
     "output_type": "stream",
     "text": [
      "------------c1 new: [2 1 1 0 0]\n",
      "------------c1 init: [4 2 2 2 2]\n",
      "model: 18  - n_days: 15  - date1: 2018-09-27 00:00:00  - date0: 2018-09-12 00:00:00  - ARI: 0.2857142857142857\n",
      "model: 19  - n_days: 15  - date1: 2018-10-12 00:00:00  - date0: 2018-09-27 00:00:00  - ARI: 0\n",
      "model: 20  - n_days: 15  - date1: 2018-10-27 00:00:00  - date0: 2018-10-12 00:00:00  - ARI: 0\n"
     ]
    }
   ],
   "source": [
    "find_best_periode_update_model(\"2017-12-31\", 15, file, \"order_purchase_timestamp_max\")"
   ]
  },
  {
   "cell_type": "code",
   "execution_count": 66,
   "id": "f562899f",
   "metadata": {},
   "outputs": [],
   "source": [
    "result_ARI =  pd.DataFrame(metrics_history)"
   ]
  },
  {
   "cell_type": "code",
   "execution_count": 67,
   "id": "6622c816",
   "metadata": {
    "scrolled": true
   },
   "outputs": [
    {
     "data": {
      "text/html": [
       "<div>\n",
       "<style scoped>\n",
       "    .dataframe tbody tr th:only-of-type {\n",
       "        vertical-align: middle;\n",
       "    }\n",
       "\n",
       "    .dataframe tbody tr th {\n",
       "        vertical-align: top;\n",
       "    }\n",
       "\n",
       "    .dataframe thead th {\n",
       "        text-align: right;\n",
       "    }\n",
       "</style>\n",
       "<table border=\"1\" class=\"dataframe\">\n",
       "  <thead>\n",
       "    <tr style=\"text-align: right;\">\n",
       "      <th></th>\n",
       "      <th>model</th>\n",
       "      <th>n_days</th>\n",
       "      <th>date1</th>\n",
       "      <th>date0</th>\n",
       "      <th>ARI</th>\n",
       "    </tr>\n",
       "  </thead>\n",
       "  <tbody>\n",
       "    <tr>\n",
       "      <th>0</th>\n",
       "      <td>1</td>\n",
       "      <td>15</td>\n",
       "      <td>2018-01-15</td>\n",
       "      <td>2017-12-31</td>\n",
       "      <td>0.977210</td>\n",
       "    </tr>\n",
       "    <tr>\n",
       "      <th>1</th>\n",
       "      <td>2</td>\n",
       "      <td>15</td>\n",
       "      <td>2018-01-30</td>\n",
       "      <td>2018-01-15</td>\n",
       "      <td>0.980318</td>\n",
       "    </tr>\n",
       "    <tr>\n",
       "      <th>2</th>\n",
       "      <td>3</td>\n",
       "      <td>15</td>\n",
       "      <td>2018-02-14</td>\n",
       "      <td>2018-01-30</td>\n",
       "      <td>0.231714</td>\n",
       "    </tr>\n",
       "    <tr>\n",
       "      <th>3</th>\n",
       "      <td>4</td>\n",
       "      <td>15</td>\n",
       "      <td>2018-03-01</td>\n",
       "      <td>2018-02-14</td>\n",
       "      <td>0.982431</td>\n",
       "    </tr>\n",
       "    <tr>\n",
       "      <th>4</th>\n",
       "      <td>5</td>\n",
       "      <td>15</td>\n",
       "      <td>2018-03-16</td>\n",
       "      <td>2018-03-01</td>\n",
       "      <td>0.999605</td>\n",
       "    </tr>\n",
       "    <tr>\n",
       "      <th>5</th>\n",
       "      <td>6</td>\n",
       "      <td>15</td>\n",
       "      <td>2018-03-31</td>\n",
       "      <td>2018-03-16</td>\n",
       "      <td>0.978141</td>\n",
       "    </tr>\n",
       "    <tr>\n",
       "      <th>6</th>\n",
       "      <td>7</td>\n",
       "      <td>15</td>\n",
       "      <td>2018-04-15</td>\n",
       "      <td>2018-03-31</td>\n",
       "      <td>0.972276</td>\n",
       "    </tr>\n",
       "    <tr>\n",
       "      <th>7</th>\n",
       "      <td>8</td>\n",
       "      <td>15</td>\n",
       "      <td>2018-04-30</td>\n",
       "      <td>2018-04-15</td>\n",
       "      <td>0.975465</td>\n",
       "    </tr>\n",
       "    <tr>\n",
       "      <th>8</th>\n",
       "      <td>9</td>\n",
       "      <td>15</td>\n",
       "      <td>2018-05-15</td>\n",
       "      <td>2018-04-30</td>\n",
       "      <td>0.999593</td>\n",
       "    </tr>\n",
       "    <tr>\n",
       "      <th>9</th>\n",
       "      <td>10</td>\n",
       "      <td>15</td>\n",
       "      <td>2018-05-30</td>\n",
       "      <td>2018-05-15</td>\n",
       "      <td>0.427382</td>\n",
       "    </tr>\n",
       "    <tr>\n",
       "      <th>10</th>\n",
       "      <td>11</td>\n",
       "      <td>15</td>\n",
       "      <td>2018-06-14</td>\n",
       "      <td>2018-05-30</td>\n",
       "      <td>0.969457</td>\n",
       "    </tr>\n",
       "    <tr>\n",
       "      <th>11</th>\n",
       "      <td>12</td>\n",
       "      <td>15</td>\n",
       "      <td>2018-06-29</td>\n",
       "      <td>2018-06-14</td>\n",
       "      <td>0.978771</td>\n",
       "    </tr>\n",
       "    <tr>\n",
       "      <th>12</th>\n",
       "      <td>13</td>\n",
       "      <td>15</td>\n",
       "      <td>2018-07-14</td>\n",
       "      <td>2018-06-29</td>\n",
       "      <td>0.976372</td>\n",
       "    </tr>\n",
       "    <tr>\n",
       "      <th>13</th>\n",
       "      <td>14</td>\n",
       "      <td>15</td>\n",
       "      <td>2018-07-29</td>\n",
       "      <td>2018-07-14</td>\n",
       "      <td>0.977080</td>\n",
       "    </tr>\n",
       "    <tr>\n",
       "      <th>14</th>\n",
       "      <td>15</td>\n",
       "      <td>15</td>\n",
       "      <td>2018-08-13</td>\n",
       "      <td>2018-07-29</td>\n",
       "      <td>0.975852</td>\n",
       "    </tr>\n",
       "    <tr>\n",
       "      <th>15</th>\n",
       "      <td>16</td>\n",
       "      <td>15</td>\n",
       "      <td>2018-08-28</td>\n",
       "      <td>2018-08-13</td>\n",
       "      <td>0.983020</td>\n",
       "    </tr>\n",
       "    <tr>\n",
       "      <th>16</th>\n",
       "      <td>17</td>\n",
       "      <td>15</td>\n",
       "      <td>2018-09-12</td>\n",
       "      <td>2018-08-28</td>\n",
       "      <td>0.950847</td>\n",
       "    </tr>\n",
       "    <tr>\n",
       "      <th>17</th>\n",
       "      <td>18</td>\n",
       "      <td>15</td>\n",
       "      <td>2018-09-27</td>\n",
       "      <td>2018-09-12</td>\n",
       "      <td>0.285714</td>\n",
       "    </tr>\n",
       "    <tr>\n",
       "      <th>18</th>\n",
       "      <td>19</td>\n",
       "      <td>15</td>\n",
       "      <td>2018-10-12</td>\n",
       "      <td>2018-09-27</td>\n",
       "      <td>0.000000</td>\n",
       "    </tr>\n",
       "    <tr>\n",
       "      <th>19</th>\n",
       "      <td>20</td>\n",
       "      <td>15</td>\n",
       "      <td>2018-10-27</td>\n",
       "      <td>2018-10-12</td>\n",
       "      <td>0.000000</td>\n",
       "    </tr>\n",
       "  </tbody>\n",
       "</table>\n",
       "</div>"
      ],
      "text/plain": [
       "    model  n_days      date1      date0       ARI\n",
       "0       1      15 2018-01-15 2017-12-31  0.977210\n",
       "1       2      15 2018-01-30 2018-01-15  0.980318\n",
       "2       3      15 2018-02-14 2018-01-30  0.231714\n",
       "3       4      15 2018-03-01 2018-02-14  0.982431\n",
       "4       5      15 2018-03-16 2018-03-01  0.999605\n",
       "5       6      15 2018-03-31 2018-03-16  0.978141\n",
       "6       7      15 2018-04-15 2018-03-31  0.972276\n",
       "7       8      15 2018-04-30 2018-04-15  0.975465\n",
       "8       9      15 2018-05-15 2018-04-30  0.999593\n",
       "9      10      15 2018-05-30 2018-05-15  0.427382\n",
       "10     11      15 2018-06-14 2018-05-30  0.969457\n",
       "11     12      15 2018-06-29 2018-06-14  0.978771\n",
       "12     13      15 2018-07-14 2018-06-29  0.976372\n",
       "13     14      15 2018-07-29 2018-07-14  0.977080\n",
       "14     15      15 2018-08-13 2018-07-29  0.975852\n",
       "15     16      15 2018-08-28 2018-08-13  0.983020\n",
       "16     17      15 2018-09-12 2018-08-28  0.950847\n",
       "17     18      15 2018-09-27 2018-09-12  0.285714\n",
       "18     19      15 2018-10-12 2018-09-27  0.000000\n",
       "19     20      15 2018-10-27 2018-10-12  0.000000"
      ]
     },
     "execution_count": 67,
     "metadata": {},
     "output_type": "execute_result"
    }
   ],
   "source": [
    "result_ARI"
   ]
  },
  {
   "cell_type": "markdown",
   "id": "45a45343",
   "metadata": {},
   "source": [
    "## Analyse des résultats obtenus"
   ]
  },
  {
   "cell_type": "code",
   "execution_count": 72,
   "id": "9be6180c",
   "metadata": {},
   "outputs": [
    {
     "data": {
      "application/vnd.plotly.v1+json": {
       "config": {
        "plotlyServerURL": "https://plotly.com"
       },
       "data": [
        {
         "hovertemplate": "date0=%{x}<br>ARI=%{y}<extra></extra>",
         "legendgroup": "",
         "line": {
          "color": "#0C29D0",
          "dash": "solid"
         },
         "marker": {
          "symbol": "circle"
         },
         "mode": "lines",
         "name": "",
         "orientation": "v",
         "showlegend": false,
         "type": "scatter",
         "x": [
          "2017-12-31T00:00:00",
          "2018-01-15T00:00:00",
          "2018-01-30T00:00:00",
          "2018-02-14T00:00:00",
          "2018-03-01T00:00:00",
          "2018-03-16T00:00:00",
          "2018-03-31T00:00:00",
          "2018-04-15T00:00:00",
          "2018-04-30T00:00:00",
          "2018-05-15T00:00:00",
          "2018-05-30T00:00:00",
          "2018-06-14T00:00:00",
          "2018-06-29T00:00:00",
          "2018-07-14T00:00:00",
          "2018-07-29T00:00:00",
          "2018-08-13T00:00:00",
          "2018-08-28T00:00:00",
          "2018-09-12T00:00:00",
          "2018-09-27T00:00:00",
          "2018-10-12T00:00:00"
         ],
         "xaxis": "x",
         "y": [
          0.9772097423721141,
          0.9803183683168587,
          0.23171446521651934,
          0.9824309071024684,
          0.9996053493346782,
          0.9781408742708673,
          0.9722763281347794,
          0.9754645402513941,
          0.9995928677616953,
          0.42738230171161107,
          0.9694565582168355,
          0.9787712491503345,
          0.9763717678692957,
          0.9770796623101153,
          0.9758517442500803,
          0.9830202369959844,
          0.9508470605642139,
          0.2857142857142857,
          0,
          0
         ],
         "yaxis": "y"
        }
       ],
       "layout": {
        "legend": {
         "tracegroupgap": 0
        },
        "plot_bgcolor": "white",
        "template": {
         "data": {
          "bar": [
           {
            "error_x": {
             "color": "#2a3f5f"
            },
            "error_y": {
             "color": "#2a3f5f"
            },
            "marker": {
             "line": {
              "color": "#E5ECF6",
              "width": 0.5
             },
             "pattern": {
              "fillmode": "overlay",
              "size": 10,
              "solidity": 0.2
             }
            },
            "type": "bar"
           }
          ],
          "barpolar": [
           {
            "marker": {
             "line": {
              "color": "#E5ECF6",
              "width": 0.5
             },
             "pattern": {
              "fillmode": "overlay",
              "size": 10,
              "solidity": 0.2
             }
            },
            "type": "barpolar"
           }
          ],
          "carpet": [
           {
            "aaxis": {
             "endlinecolor": "#2a3f5f",
             "gridcolor": "white",
             "linecolor": "white",
             "minorgridcolor": "white",
             "startlinecolor": "#2a3f5f"
            },
            "baxis": {
             "endlinecolor": "#2a3f5f",
             "gridcolor": "white",
             "linecolor": "white",
             "minorgridcolor": "white",
             "startlinecolor": "#2a3f5f"
            },
            "type": "carpet"
           }
          ],
          "choropleth": [
           {
            "colorbar": {
             "outlinewidth": 0,
             "ticks": ""
            },
            "type": "choropleth"
           }
          ],
          "contour": [
           {
            "colorbar": {
             "outlinewidth": 0,
             "ticks": ""
            },
            "colorscale": [
             [
              0,
              "#0d0887"
             ],
             [
              0.1111111111111111,
              "#46039f"
             ],
             [
              0.2222222222222222,
              "#7201a8"
             ],
             [
              0.3333333333333333,
              "#9c179e"
             ],
             [
              0.4444444444444444,
              "#bd3786"
             ],
             [
              0.5555555555555556,
              "#d8576b"
             ],
             [
              0.6666666666666666,
              "#ed7953"
             ],
             [
              0.7777777777777778,
              "#fb9f3a"
             ],
             [
              0.8888888888888888,
              "#fdca26"
             ],
             [
              1,
              "#f0f921"
             ]
            ],
            "type": "contour"
           }
          ],
          "contourcarpet": [
           {
            "colorbar": {
             "outlinewidth": 0,
             "ticks": ""
            },
            "type": "contourcarpet"
           }
          ],
          "heatmap": [
           {
            "colorbar": {
             "outlinewidth": 0,
             "ticks": ""
            },
            "colorscale": [
             [
              0,
              "#0d0887"
             ],
             [
              0.1111111111111111,
              "#46039f"
             ],
             [
              0.2222222222222222,
              "#7201a8"
             ],
             [
              0.3333333333333333,
              "#9c179e"
             ],
             [
              0.4444444444444444,
              "#bd3786"
             ],
             [
              0.5555555555555556,
              "#d8576b"
             ],
             [
              0.6666666666666666,
              "#ed7953"
             ],
             [
              0.7777777777777778,
              "#fb9f3a"
             ],
             [
              0.8888888888888888,
              "#fdca26"
             ],
             [
              1,
              "#f0f921"
             ]
            ],
            "type": "heatmap"
           }
          ],
          "heatmapgl": [
           {
            "colorbar": {
             "outlinewidth": 0,
             "ticks": ""
            },
            "colorscale": [
             [
              0,
              "#0d0887"
             ],
             [
              0.1111111111111111,
              "#46039f"
             ],
             [
              0.2222222222222222,
              "#7201a8"
             ],
             [
              0.3333333333333333,
              "#9c179e"
             ],
             [
              0.4444444444444444,
              "#bd3786"
             ],
             [
              0.5555555555555556,
              "#d8576b"
             ],
             [
              0.6666666666666666,
              "#ed7953"
             ],
             [
              0.7777777777777778,
              "#fb9f3a"
             ],
             [
              0.8888888888888888,
              "#fdca26"
             ],
             [
              1,
              "#f0f921"
             ]
            ],
            "type": "heatmapgl"
           }
          ],
          "histogram": [
           {
            "marker": {
             "pattern": {
              "fillmode": "overlay",
              "size": 10,
              "solidity": 0.2
             }
            },
            "type": "histogram"
           }
          ],
          "histogram2d": [
           {
            "colorbar": {
             "outlinewidth": 0,
             "ticks": ""
            },
            "colorscale": [
             [
              0,
              "#0d0887"
             ],
             [
              0.1111111111111111,
              "#46039f"
             ],
             [
              0.2222222222222222,
              "#7201a8"
             ],
             [
              0.3333333333333333,
              "#9c179e"
             ],
             [
              0.4444444444444444,
              "#bd3786"
             ],
             [
              0.5555555555555556,
              "#d8576b"
             ],
             [
              0.6666666666666666,
              "#ed7953"
             ],
             [
              0.7777777777777778,
              "#fb9f3a"
             ],
             [
              0.8888888888888888,
              "#fdca26"
             ],
             [
              1,
              "#f0f921"
             ]
            ],
            "type": "histogram2d"
           }
          ],
          "histogram2dcontour": [
           {
            "colorbar": {
             "outlinewidth": 0,
             "ticks": ""
            },
            "colorscale": [
             [
              0,
              "#0d0887"
             ],
             [
              0.1111111111111111,
              "#46039f"
             ],
             [
              0.2222222222222222,
              "#7201a8"
             ],
             [
              0.3333333333333333,
              "#9c179e"
             ],
             [
              0.4444444444444444,
              "#bd3786"
             ],
             [
              0.5555555555555556,
              "#d8576b"
             ],
             [
              0.6666666666666666,
              "#ed7953"
             ],
             [
              0.7777777777777778,
              "#fb9f3a"
             ],
             [
              0.8888888888888888,
              "#fdca26"
             ],
             [
              1,
              "#f0f921"
             ]
            ],
            "type": "histogram2dcontour"
           }
          ],
          "mesh3d": [
           {
            "colorbar": {
             "outlinewidth": 0,
             "ticks": ""
            },
            "type": "mesh3d"
           }
          ],
          "parcoords": [
           {
            "line": {
             "colorbar": {
              "outlinewidth": 0,
              "ticks": ""
             }
            },
            "type": "parcoords"
           }
          ],
          "pie": [
           {
            "automargin": true,
            "type": "pie"
           }
          ],
          "scatter": [
           {
            "marker": {
             "colorbar": {
              "outlinewidth": 0,
              "ticks": ""
             }
            },
            "type": "scatter"
           }
          ],
          "scatter3d": [
           {
            "line": {
             "colorbar": {
              "outlinewidth": 0,
              "ticks": ""
             }
            },
            "marker": {
             "colorbar": {
              "outlinewidth": 0,
              "ticks": ""
             }
            },
            "type": "scatter3d"
           }
          ],
          "scattercarpet": [
           {
            "marker": {
             "colorbar": {
              "outlinewidth": 0,
              "ticks": ""
             }
            },
            "type": "scattercarpet"
           }
          ],
          "scattergeo": [
           {
            "marker": {
             "colorbar": {
              "outlinewidth": 0,
              "ticks": ""
             }
            },
            "type": "scattergeo"
           }
          ],
          "scattergl": [
           {
            "marker": {
             "colorbar": {
              "outlinewidth": 0,
              "ticks": ""
             }
            },
            "type": "scattergl"
           }
          ],
          "scattermapbox": [
           {
            "marker": {
             "colorbar": {
              "outlinewidth": 0,
              "ticks": ""
             }
            },
            "type": "scattermapbox"
           }
          ],
          "scatterpolar": [
           {
            "marker": {
             "colorbar": {
              "outlinewidth": 0,
              "ticks": ""
             }
            },
            "type": "scatterpolar"
           }
          ],
          "scatterpolargl": [
           {
            "marker": {
             "colorbar": {
              "outlinewidth": 0,
              "ticks": ""
             }
            },
            "type": "scatterpolargl"
           }
          ],
          "scatterternary": [
           {
            "marker": {
             "colorbar": {
              "outlinewidth": 0,
              "ticks": ""
             }
            },
            "type": "scatterternary"
           }
          ],
          "surface": [
           {
            "colorbar": {
             "outlinewidth": 0,
             "ticks": ""
            },
            "colorscale": [
             [
              0,
              "#0d0887"
             ],
             [
              0.1111111111111111,
              "#46039f"
             ],
             [
              0.2222222222222222,
              "#7201a8"
             ],
             [
              0.3333333333333333,
              "#9c179e"
             ],
             [
              0.4444444444444444,
              "#bd3786"
             ],
             [
              0.5555555555555556,
              "#d8576b"
             ],
             [
              0.6666666666666666,
              "#ed7953"
             ],
             [
              0.7777777777777778,
              "#fb9f3a"
             ],
             [
              0.8888888888888888,
              "#fdca26"
             ],
             [
              1,
              "#f0f921"
             ]
            ],
            "type": "surface"
           }
          ],
          "table": [
           {
            "cells": {
             "fill": {
              "color": "#EBF0F8"
             },
             "line": {
              "color": "white"
             }
            },
            "header": {
             "fill": {
              "color": "#C8D4E3"
             },
             "line": {
              "color": "white"
             }
            },
            "type": "table"
           }
          ]
         },
         "layout": {
          "annotationdefaults": {
           "arrowcolor": "#2a3f5f",
           "arrowhead": 0,
           "arrowwidth": 1
          },
          "autotypenumbers": "strict",
          "coloraxis": {
           "colorbar": {
            "outlinewidth": 0,
            "ticks": ""
           }
          },
          "colorscale": {
           "diverging": [
            [
             0,
             "#8e0152"
            ],
            [
             0.1,
             "#c51b7d"
            ],
            [
             0.2,
             "#de77ae"
            ],
            [
             0.3,
             "#f1b6da"
            ],
            [
             0.4,
             "#fde0ef"
            ],
            [
             0.5,
             "#f7f7f7"
            ],
            [
             0.6,
             "#e6f5d0"
            ],
            [
             0.7,
             "#b8e186"
            ],
            [
             0.8,
             "#7fbc41"
            ],
            [
             0.9,
             "#4d9221"
            ],
            [
             1,
             "#276419"
            ]
           ],
           "sequential": [
            [
             0,
             "#0d0887"
            ],
            [
             0.1111111111111111,
             "#46039f"
            ],
            [
             0.2222222222222222,
             "#7201a8"
            ],
            [
             0.3333333333333333,
             "#9c179e"
            ],
            [
             0.4444444444444444,
             "#bd3786"
            ],
            [
             0.5555555555555556,
             "#d8576b"
            ],
            [
             0.6666666666666666,
             "#ed7953"
            ],
            [
             0.7777777777777778,
             "#fb9f3a"
            ],
            [
             0.8888888888888888,
             "#fdca26"
            ],
            [
             1,
             "#f0f921"
            ]
           ],
           "sequentialminus": [
            [
             0,
             "#0d0887"
            ],
            [
             0.1111111111111111,
             "#46039f"
            ],
            [
             0.2222222222222222,
             "#7201a8"
            ],
            [
             0.3333333333333333,
             "#9c179e"
            ],
            [
             0.4444444444444444,
             "#bd3786"
            ],
            [
             0.5555555555555556,
             "#d8576b"
            ],
            [
             0.6666666666666666,
             "#ed7953"
            ],
            [
             0.7777777777777778,
             "#fb9f3a"
            ],
            [
             0.8888888888888888,
             "#fdca26"
            ],
            [
             1,
             "#f0f921"
            ]
           ]
          },
          "colorway": [
           "#636efa",
           "#EF553B",
           "#00cc96",
           "#ab63fa",
           "#FFA15A",
           "#19d3f3",
           "#FF6692",
           "#B6E880",
           "#FF97FF",
           "#FECB52"
          ],
          "font": {
           "color": "#2a3f5f"
          },
          "geo": {
           "bgcolor": "white",
           "lakecolor": "white",
           "landcolor": "#E5ECF6",
           "showlakes": true,
           "showland": true,
           "subunitcolor": "white"
          },
          "hoverlabel": {
           "align": "left"
          },
          "hovermode": "closest",
          "mapbox": {
           "style": "light"
          },
          "paper_bgcolor": "white",
          "plot_bgcolor": "#E5ECF6",
          "polar": {
           "angularaxis": {
            "gridcolor": "white",
            "linecolor": "white",
            "ticks": ""
           },
           "bgcolor": "#E5ECF6",
           "radialaxis": {
            "gridcolor": "white",
            "linecolor": "white",
            "ticks": ""
           }
          },
          "scene": {
           "xaxis": {
            "backgroundcolor": "#E5ECF6",
            "gridcolor": "white",
            "gridwidth": 2,
            "linecolor": "white",
            "showbackground": true,
            "ticks": "",
            "zerolinecolor": "white"
           },
           "yaxis": {
            "backgroundcolor": "#E5ECF6",
            "gridcolor": "white",
            "gridwidth": 2,
            "linecolor": "white",
            "showbackground": true,
            "ticks": "",
            "zerolinecolor": "white"
           },
           "zaxis": {
            "backgroundcolor": "#E5ECF6",
            "gridcolor": "white",
            "gridwidth": 2,
            "linecolor": "white",
            "showbackground": true,
            "ticks": "",
            "zerolinecolor": "white"
           }
          },
          "shapedefaults": {
           "line": {
            "color": "#2a3f5f"
           }
          },
          "ternary": {
           "aaxis": {
            "gridcolor": "white",
            "linecolor": "white",
            "ticks": ""
           },
           "baxis": {
            "gridcolor": "white",
            "linecolor": "white",
            "ticks": ""
           },
           "bgcolor": "#E5ECF6",
           "caxis": {
            "gridcolor": "white",
            "linecolor": "white",
            "ticks": ""
           }
          },
          "title": {
           "x": 0.05
          },
          "xaxis": {
           "automargin": true,
           "gridcolor": "white",
           "linecolor": "white",
           "ticks": "",
           "title": {
            "standoff": 15
           },
           "zerolinecolor": "white",
           "zerolinewidth": 2
          },
          "yaxis": {
           "automargin": true,
           "gridcolor": "white",
           "linecolor": "white",
           "ticks": "",
           "title": {
            "standoff": 15
           },
           "zerolinecolor": "white",
           "zerolinewidth": 2
          }
         }
        },
        "title": {
         "text": "ARI par date d'achat (max par client)"
        },
        "xaxis": {
         "anchor": "y",
         "domain": [
          0,
          1
         ],
         "gridcolor": "grey",
         "gridwidth": 1,
         "showgrid": true,
         "title": {
          "text": "date0"
         },
         "zeroline": false
        },
        "yaxis": {
         "anchor": "x",
         "domain": [
          0,
          1
         ],
         "gridcolor": "grey",
         "gridwidth": 1,
         "showgrid": true,
         "title": {
          "text": "ARI"
         },
         "zeroline": false
        }
       }
      },
      "text/html": [
       "<div>                            <div id=\"7ae0ead4-2fad-41de-bcd9-660ace7ae5bf\" class=\"plotly-graph-div\" style=\"height:525px; width:100%;\"></div>            <script type=\"text/javascript\">                require([\"plotly\"], function(Plotly) {                    window.PLOTLYENV=window.PLOTLYENV || {};                                    if (document.getElementById(\"7ae0ead4-2fad-41de-bcd9-660ace7ae5bf\")) {                    Plotly.newPlot(                        \"7ae0ead4-2fad-41de-bcd9-660ace7ae5bf\",                        [{\"hovertemplate\":\"date0=%{x}<br>ARI=%{y}<extra></extra>\",\"legendgroup\":\"\",\"line\":{\"color\":\"#0C29D0\",\"dash\":\"solid\"},\"marker\":{\"symbol\":\"circle\"},\"mode\":\"lines\",\"name\":\"\",\"orientation\":\"v\",\"showlegend\":false,\"x\":[\"2017-12-31T00:00:00\",\"2018-01-15T00:00:00\",\"2018-01-30T00:00:00\",\"2018-02-14T00:00:00\",\"2018-03-01T00:00:00\",\"2018-03-16T00:00:00\",\"2018-03-31T00:00:00\",\"2018-04-15T00:00:00\",\"2018-04-30T00:00:00\",\"2018-05-15T00:00:00\",\"2018-05-30T00:00:00\",\"2018-06-14T00:00:00\",\"2018-06-29T00:00:00\",\"2018-07-14T00:00:00\",\"2018-07-29T00:00:00\",\"2018-08-13T00:00:00\",\"2018-08-28T00:00:00\",\"2018-09-12T00:00:00\",\"2018-09-27T00:00:00\",\"2018-10-12T00:00:00\"],\"xaxis\":\"x\",\"y\":[0.9772097423721141,0.9803183683168587,0.23171446521651934,0.9824309071024684,0.9996053493346782,0.9781408742708673,0.9722763281347794,0.9754645402513941,0.9995928677616953,0.42738230171161107,0.9694565582168355,0.9787712491503345,0.9763717678692957,0.9770796623101153,0.9758517442500803,0.9830202369959844,0.9508470605642139,0.2857142857142857,0.0,0.0],\"yaxis\":\"y\",\"type\":\"scatter\"}],                        {\"template\":{\"data\":{\"bar\":[{\"error_x\":{\"color\":\"#2a3f5f\"},\"error_y\":{\"color\":\"#2a3f5f\"},\"marker\":{\"line\":{\"color\":\"#E5ECF6\",\"width\":0.5},\"pattern\":{\"fillmode\":\"overlay\",\"size\":10,\"solidity\":0.2}},\"type\":\"bar\"}],\"barpolar\":[{\"marker\":{\"line\":{\"color\":\"#E5ECF6\",\"width\":0.5},\"pattern\":{\"fillmode\":\"overlay\",\"size\":10,\"solidity\":0.2}},\"type\":\"barpolar\"}],\"carpet\":[{\"aaxis\":{\"endlinecolor\":\"#2a3f5f\",\"gridcolor\":\"white\",\"linecolor\":\"white\",\"minorgridcolor\":\"white\",\"startlinecolor\":\"#2a3f5f\"},\"baxis\":{\"endlinecolor\":\"#2a3f5f\",\"gridcolor\":\"white\",\"linecolor\":\"white\",\"minorgridcolor\":\"white\",\"startlinecolor\":\"#2a3f5f\"},\"type\":\"carpet\"}],\"choropleth\":[{\"colorbar\":{\"outlinewidth\":0,\"ticks\":\"\"},\"type\":\"choropleth\"}],\"contour\":[{\"colorbar\":{\"outlinewidth\":0,\"ticks\":\"\"},\"colorscale\":[[0.0,\"#0d0887\"],[0.1111111111111111,\"#46039f\"],[0.2222222222222222,\"#7201a8\"],[0.3333333333333333,\"#9c179e\"],[0.4444444444444444,\"#bd3786\"],[0.5555555555555556,\"#d8576b\"],[0.6666666666666666,\"#ed7953\"],[0.7777777777777778,\"#fb9f3a\"],[0.8888888888888888,\"#fdca26\"],[1.0,\"#f0f921\"]],\"type\":\"contour\"}],\"contourcarpet\":[{\"colorbar\":{\"outlinewidth\":0,\"ticks\":\"\"},\"type\":\"contourcarpet\"}],\"heatmap\":[{\"colorbar\":{\"outlinewidth\":0,\"ticks\":\"\"},\"colorscale\":[[0.0,\"#0d0887\"],[0.1111111111111111,\"#46039f\"],[0.2222222222222222,\"#7201a8\"],[0.3333333333333333,\"#9c179e\"],[0.4444444444444444,\"#bd3786\"],[0.5555555555555556,\"#d8576b\"],[0.6666666666666666,\"#ed7953\"],[0.7777777777777778,\"#fb9f3a\"],[0.8888888888888888,\"#fdca26\"],[1.0,\"#f0f921\"]],\"type\":\"heatmap\"}],\"heatmapgl\":[{\"colorbar\":{\"outlinewidth\":0,\"ticks\":\"\"},\"colorscale\":[[0.0,\"#0d0887\"],[0.1111111111111111,\"#46039f\"],[0.2222222222222222,\"#7201a8\"],[0.3333333333333333,\"#9c179e\"],[0.4444444444444444,\"#bd3786\"],[0.5555555555555556,\"#d8576b\"],[0.6666666666666666,\"#ed7953\"],[0.7777777777777778,\"#fb9f3a\"],[0.8888888888888888,\"#fdca26\"],[1.0,\"#f0f921\"]],\"type\":\"heatmapgl\"}],\"histogram\":[{\"marker\":{\"pattern\":{\"fillmode\":\"overlay\",\"size\":10,\"solidity\":0.2}},\"type\":\"histogram\"}],\"histogram2d\":[{\"colorbar\":{\"outlinewidth\":0,\"ticks\":\"\"},\"colorscale\":[[0.0,\"#0d0887\"],[0.1111111111111111,\"#46039f\"],[0.2222222222222222,\"#7201a8\"],[0.3333333333333333,\"#9c179e\"],[0.4444444444444444,\"#bd3786\"],[0.5555555555555556,\"#d8576b\"],[0.6666666666666666,\"#ed7953\"],[0.7777777777777778,\"#fb9f3a\"],[0.8888888888888888,\"#fdca26\"],[1.0,\"#f0f921\"]],\"type\":\"histogram2d\"}],\"histogram2dcontour\":[{\"colorbar\":{\"outlinewidth\":0,\"ticks\":\"\"},\"colorscale\":[[0.0,\"#0d0887\"],[0.1111111111111111,\"#46039f\"],[0.2222222222222222,\"#7201a8\"],[0.3333333333333333,\"#9c179e\"],[0.4444444444444444,\"#bd3786\"],[0.5555555555555556,\"#d8576b\"],[0.6666666666666666,\"#ed7953\"],[0.7777777777777778,\"#fb9f3a\"],[0.8888888888888888,\"#fdca26\"],[1.0,\"#f0f921\"]],\"type\":\"histogram2dcontour\"}],\"mesh3d\":[{\"colorbar\":{\"outlinewidth\":0,\"ticks\":\"\"},\"type\":\"mesh3d\"}],\"parcoords\":[{\"line\":{\"colorbar\":{\"outlinewidth\":0,\"ticks\":\"\"}},\"type\":\"parcoords\"}],\"pie\":[{\"automargin\":true,\"type\":\"pie\"}],\"scatter\":[{\"marker\":{\"colorbar\":{\"outlinewidth\":0,\"ticks\":\"\"}},\"type\":\"scatter\"}],\"scatter3d\":[{\"line\":{\"colorbar\":{\"outlinewidth\":0,\"ticks\":\"\"}},\"marker\":{\"colorbar\":{\"outlinewidth\":0,\"ticks\":\"\"}},\"type\":\"scatter3d\"}],\"scattercarpet\":[{\"marker\":{\"colorbar\":{\"outlinewidth\":0,\"ticks\":\"\"}},\"type\":\"scattercarpet\"}],\"scattergeo\":[{\"marker\":{\"colorbar\":{\"outlinewidth\":0,\"ticks\":\"\"}},\"type\":\"scattergeo\"}],\"scattergl\":[{\"marker\":{\"colorbar\":{\"outlinewidth\":0,\"ticks\":\"\"}},\"type\":\"scattergl\"}],\"scattermapbox\":[{\"marker\":{\"colorbar\":{\"outlinewidth\":0,\"ticks\":\"\"}},\"type\":\"scattermapbox\"}],\"scatterpolar\":[{\"marker\":{\"colorbar\":{\"outlinewidth\":0,\"ticks\":\"\"}},\"type\":\"scatterpolar\"}],\"scatterpolargl\":[{\"marker\":{\"colorbar\":{\"outlinewidth\":0,\"ticks\":\"\"}},\"type\":\"scatterpolargl\"}],\"scatterternary\":[{\"marker\":{\"colorbar\":{\"outlinewidth\":0,\"ticks\":\"\"}},\"type\":\"scatterternary\"}],\"surface\":[{\"colorbar\":{\"outlinewidth\":0,\"ticks\":\"\"},\"colorscale\":[[0.0,\"#0d0887\"],[0.1111111111111111,\"#46039f\"],[0.2222222222222222,\"#7201a8\"],[0.3333333333333333,\"#9c179e\"],[0.4444444444444444,\"#bd3786\"],[0.5555555555555556,\"#d8576b\"],[0.6666666666666666,\"#ed7953\"],[0.7777777777777778,\"#fb9f3a\"],[0.8888888888888888,\"#fdca26\"],[1.0,\"#f0f921\"]],\"type\":\"surface\"}],\"table\":[{\"cells\":{\"fill\":{\"color\":\"#EBF0F8\"},\"line\":{\"color\":\"white\"}},\"header\":{\"fill\":{\"color\":\"#C8D4E3\"},\"line\":{\"color\":\"white\"}},\"type\":\"table\"}]},\"layout\":{\"annotationdefaults\":{\"arrowcolor\":\"#2a3f5f\",\"arrowhead\":0,\"arrowwidth\":1},\"autotypenumbers\":\"strict\",\"coloraxis\":{\"colorbar\":{\"outlinewidth\":0,\"ticks\":\"\"}},\"colorscale\":{\"diverging\":[[0,\"#8e0152\"],[0.1,\"#c51b7d\"],[0.2,\"#de77ae\"],[0.3,\"#f1b6da\"],[0.4,\"#fde0ef\"],[0.5,\"#f7f7f7\"],[0.6,\"#e6f5d0\"],[0.7,\"#b8e186\"],[0.8,\"#7fbc41\"],[0.9,\"#4d9221\"],[1,\"#276419\"]],\"sequential\":[[0.0,\"#0d0887\"],[0.1111111111111111,\"#46039f\"],[0.2222222222222222,\"#7201a8\"],[0.3333333333333333,\"#9c179e\"],[0.4444444444444444,\"#bd3786\"],[0.5555555555555556,\"#d8576b\"],[0.6666666666666666,\"#ed7953\"],[0.7777777777777778,\"#fb9f3a\"],[0.8888888888888888,\"#fdca26\"],[1.0,\"#f0f921\"]],\"sequentialminus\":[[0.0,\"#0d0887\"],[0.1111111111111111,\"#46039f\"],[0.2222222222222222,\"#7201a8\"],[0.3333333333333333,\"#9c179e\"],[0.4444444444444444,\"#bd3786\"],[0.5555555555555556,\"#d8576b\"],[0.6666666666666666,\"#ed7953\"],[0.7777777777777778,\"#fb9f3a\"],[0.8888888888888888,\"#fdca26\"],[1.0,\"#f0f921\"]]},\"colorway\":[\"#636efa\",\"#EF553B\",\"#00cc96\",\"#ab63fa\",\"#FFA15A\",\"#19d3f3\",\"#FF6692\",\"#B6E880\",\"#FF97FF\",\"#FECB52\"],\"font\":{\"color\":\"#2a3f5f\"},\"geo\":{\"bgcolor\":\"white\",\"lakecolor\":\"white\",\"landcolor\":\"#E5ECF6\",\"showlakes\":true,\"showland\":true,\"subunitcolor\":\"white\"},\"hoverlabel\":{\"align\":\"left\"},\"hovermode\":\"closest\",\"mapbox\":{\"style\":\"light\"},\"paper_bgcolor\":\"white\",\"plot_bgcolor\":\"#E5ECF6\",\"polar\":{\"angularaxis\":{\"gridcolor\":\"white\",\"linecolor\":\"white\",\"ticks\":\"\"},\"bgcolor\":\"#E5ECF6\",\"radialaxis\":{\"gridcolor\":\"white\",\"linecolor\":\"white\",\"ticks\":\"\"}},\"scene\":{\"xaxis\":{\"backgroundcolor\":\"#E5ECF6\",\"gridcolor\":\"white\",\"gridwidth\":2,\"linecolor\":\"white\",\"showbackground\":true,\"ticks\":\"\",\"zerolinecolor\":\"white\"},\"yaxis\":{\"backgroundcolor\":\"#E5ECF6\",\"gridcolor\":\"white\",\"gridwidth\":2,\"linecolor\":\"white\",\"showbackground\":true,\"ticks\":\"\",\"zerolinecolor\":\"white\"},\"zaxis\":{\"backgroundcolor\":\"#E5ECF6\",\"gridcolor\":\"white\",\"gridwidth\":2,\"linecolor\":\"white\",\"showbackground\":true,\"ticks\":\"\",\"zerolinecolor\":\"white\"}},\"shapedefaults\":{\"line\":{\"color\":\"#2a3f5f\"}},\"ternary\":{\"aaxis\":{\"gridcolor\":\"white\",\"linecolor\":\"white\",\"ticks\":\"\"},\"baxis\":{\"gridcolor\":\"white\",\"linecolor\":\"white\",\"ticks\":\"\"},\"bgcolor\":\"#E5ECF6\",\"caxis\":{\"gridcolor\":\"white\",\"linecolor\":\"white\",\"ticks\":\"\"}},\"title\":{\"x\":0.05},\"xaxis\":{\"automargin\":true,\"gridcolor\":\"white\",\"linecolor\":\"white\",\"ticks\":\"\",\"title\":{\"standoff\":15},\"zerolinecolor\":\"white\",\"zerolinewidth\":2},\"yaxis\":{\"automargin\":true,\"gridcolor\":\"white\",\"linecolor\":\"white\",\"ticks\":\"\",\"title\":{\"standoff\":15},\"zerolinecolor\":\"white\",\"zerolinewidth\":2}}},\"xaxis\":{\"anchor\":\"y\",\"domain\":[0.0,1.0],\"title\":{\"text\":\"date0\"},\"showgrid\":true,\"gridwidth\":1,\"gridcolor\":\"grey\",\"zeroline\":false},\"yaxis\":{\"anchor\":\"x\",\"domain\":[0.0,1.0],\"title\":{\"text\":\"ARI\"},\"showgrid\":true,\"gridwidth\":1,\"gridcolor\":\"grey\",\"zeroline\":false},\"legend\":{\"tracegroupgap\":0},\"title\":{\"text\":\"ARI par date d'achat (max par client)\"},\"plot_bgcolor\":\"white\"},                        {\"responsive\": true}                    ).then(function(){\n",
       "                            \n",
       "var gd = document.getElementById('7ae0ead4-2fad-41de-bcd9-660ace7ae5bf');\n",
       "var x = new MutationObserver(function (mutations, observer) {{\n",
       "        var display = window.getComputedStyle(gd).display;\n",
       "        if (!display || display === 'none') {{\n",
       "            console.log([gd, 'removed!']);\n",
       "            Plotly.purge(gd);\n",
       "            observer.disconnect();\n",
       "        }}\n",
       "}});\n",
       "\n",
       "// Listen for the removal of the full notebook cells\n",
       "var notebookContainer = gd.closest('#notebook-container');\n",
       "if (notebookContainer) {{\n",
       "    x.observe(notebookContainer, {childList: true});\n",
       "}}\n",
       "\n",
       "// Listen for the clearing of the current output cell\n",
       "var outputEl = gd.closest('.output');\n",
       "if (outputEl) {{\n",
       "    x.observe(outputEl, {childList: true});\n",
       "}}\n",
       "\n",
       "                        })                };                });            </script>        </div>"
      ]
     },
     "metadata": {},
     "output_type": "display_data"
    }
   ],
   "source": [
    "import plotly.express as px\n",
    "fig=px.line(result_ARI, x=\"date0\", y=\"ARI\", title='ARI par date d\\'achat (max par client)')\n",
    "fig.update_layout(\n",
    "plot_bgcolor=\"white\")\n",
    "fig.data[0].line.color = '#0C29D0'\n",
    "fig.update_xaxes(showgrid=True, gridwidth=1, gridcolor='grey', zeroline=False)\n",
    "fig.update_yaxes(showgrid=True, gridwidth=1, gridcolor='grey', zeroline=False)\n",
    "fig.show()"
   ]
  },
  {
   "cell_type": "markdown",
   "id": "88ccad06",
   "metadata": {},
   "source": [
    "Nous observons une baisse de l'ARI tous les 3 mois. Il nous faut donc mettre à jour notre modèle tous les 3 mois."
   ]
  }
 ],
 "metadata": {
  "kernelspec": {
   "display_name": "venv",
   "language": "python",
   "name": "venv"
  },
  "language_info": {
   "codemirror_mode": {
    "name": "ipython",
    "version": 3
   },
   "file_extension": ".py",
   "mimetype": "text/x-python",
   "name": "python",
   "nbconvert_exporter": "python",
   "pygments_lexer": "ipython3",
   "version": "3.9.8"
  }
 },
 "nbformat": 4,
 "nbformat_minor": 5
}
